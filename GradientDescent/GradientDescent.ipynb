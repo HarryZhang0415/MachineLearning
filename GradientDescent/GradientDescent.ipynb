{
 "cells": [
  {
   "cell_type": "code",
   "execution_count": 1,
   "metadata": {},
   "outputs": [],
   "source": [
    "import numpy as np"
   ]
  },
  {
   "cell_type": "code",
   "execution_count": 2,
   "metadata": {},
   "outputs": [],
   "source": [
    "train = 'training.csv'\n",
    "test = 'test.csv'"
   ]
  },
  {
   "cell_type": "code",
   "execution_count": 3,
   "metadata": {},
   "outputs": [],
   "source": [
    "'''\n",
    "define the function which aims to LOAD DATA：\n",
    "Since Theta0 needs X0 == 1, we need to add 1 \n",
    "''' \n",
    "def load_data(train,test):\n",
    "    train = np.genfromtxt(train,delimiter=',')\n",
    "    traindata = np.ones(train.shape)\n",
    "    traindata[:,:-1] = train[:,:-1] \n",
    "    trainlabel = train[:,-1]\n",
    "    test = np.genfromtxt(test,delimiter=',')\n",
    "    testdata = np.ones(test.shape)\n",
    "    testdata[:,:-1] = test[:,:-1] \n",
    "    testlabel = test[:,-1]\n",
    "    return traindata,trainlabel,testdata,testlabel"
   ]
  },
  {
   "cell_type": "code",
   "execution_count": 4,
   "metadata": {},
   "outputs": [],
   "source": [
    "'''\n",
    "define the Batch Gradient Descent Algorithm\n",
    "'''\n",
    "def BGD(x,y,theta,alpha,m,maxIter):\n",
    "    xTrains = x.transpose()\n",
    "    theta_old = theta\n",
    "    theta_new = theta\n",
    "    e = float('inf')  ## the diffierence between theta in one turn\n",
    "    Iter = 0\n",
    "    while e > 0.01 and Iter < maxIter:\n",
    "        theta_old = theta_new\n",
    "        hypothesis = np.dot(x,theta_old)\n",
    "        loss = hypothesis - y\n",
    "        gradient = np.dot(xTrains, loss) / m\n",
    "        theta_new = theta_old - alpha * gradient \n",
    "        e = abs(sum(theta_old - theta_new))\n",
    "        Iter = Iter + 1\n",
    "        print('Iter:' + str(Iter))\n",
    "        print('theta_new - theta_old:' + str(abs(sum(theta_old - theta_new))))\n",
    "    return theta"
   ]
  },
  {
   "cell_type": "code",
   "execution_count": 5,
   "metadata": {},
   "outputs": [],
   "source": [
    "'''\n",
    "define the Prediction function\n",
    "'''\n",
    "def predict(x, theta):\n",
    "    yP = np.dot(x, theta)\n",
    "    return yP"
   ]
  },
  {
   "cell_type": "code",
   "execution_count": 6,
   "metadata": {},
   "outputs": [
    {
     "name": "stdout",
     "output_type": "stream",
     "text": [
      "Iter:1\n",
      "theta_new - theta_old:0.35999999999999976\n",
      "Iter:2\n",
      "theta_new - theta_old:0.2484719999999997\n",
      "Iter:3\n",
      "theta_new - theta_old:0.20379376800000004\n",
      "Iter:4\n",
      "theta_new - theta_old:0.13271305384800003\n",
      "Iter:5\n",
      "theta_new - theta_old:0.117320958130536\n",
      "Iter:6\n",
      "theta_new - theta_old:0.06880032450471607\n",
      "Iter:7\n",
      "theta_new - theta_old:0.06940961880381347\n",
      "Iter:8\n",
      "theta_new - theta_old:0.033554222971766356\n",
      "Iter:9\n",
      "theta_new - theta_old:0.042823019663152384\n",
      "Iter:10\n",
      "theta_new - theta_old:0.014157519425996856\n",
      "Iter:11\n",
      "theta_new - theta_old:0.028029982399984332\n",
      "Iter:12\n",
      "theta_new - theta_old:0.003522902197364619\n"
     ]
    }
   ],
   "source": [
    "trainData, trainLabel, testData, testLabel = load_data(train,test)\n",
    "m, n = np.shape(trainData)\n",
    "theta = np.ones(n)\n",
    "alpha = 0.1\n",
    "maxIteration = 5000\n",
    "theta = BGD(trainData, trainLabel, theta, alpha, m, maxIteration) ## Get the final theta for prediction"
   ]
  },
  {
   "cell_type": "code",
   "execution_count": 8,
   "metadata": {},
   "outputs": [
    {
     "name": "stdout",
     "output_type": "stream",
     "text": [
      "The original label is:\n",
      "[ 9.5 10.2 10.9 11.6 12.3]\n",
      "The predicting label is:\n",
      "[ 9.6 10.2 10.8 11.4 12. ]\n"
     ]
    }
   ],
   "source": [
    "print('The original label is:')\n",
    "print(testLabel)\n",
    "print('The predicting label is:')\n",
    "print (predict(testData, theta)) ## the Prediction procedure"
   ]
  },
  {
   "cell_type": "code",
   "execution_count": null,
   "metadata": {},
   "outputs": [],
   "source": []
  }
 ],
 "metadata": {
  "kernelspec": {
   "display_name": "Python 3",
   "language": "python",
   "name": "python3"
  },
  "language_info": {
   "codemirror_mode": {
    "name": "ipython",
    "version": 3
   },
   "file_extension": ".py",
   "mimetype": "text/x-python",
   "name": "python",
   "nbconvert_exporter": "python",
   "pygments_lexer": "ipython3",
   "version": "3.6.5"
  }
 },
 "nbformat": 4,
 "nbformat_minor": 2
}
